{
 "cells": [
  {
   "cell_type": "markdown",
   "metadata": {},
   "source": [
    "# C-SVM Regression Frank wolfe Optimizer scratch"
   ]
  },
  {
   "cell_type": "code",
   "execution_count": 1,
   "metadata": {},
   "outputs": [],
   "source": [
    "import numpy as np\n",
    "from sklearn.datasets import make_regression\n",
    "from sklearn.model_selection import train_test_split\n",
    "from scipy.optimize import linprog\n",
    "import matplotlib.pyplot as plt"
   ]
  },
  {
   "cell_type": "markdown",
   "metadata": {},
   "source": [
    " ## Mathematical model of C-SVM Regression"
   ]
  },
  {
   "cell_type": "markdown",
   "metadata": {},
   "source": [
    "<img src=\"svr.png\" width=\"500px\" height=\"250px\" >"
   ]
  },
  {
   "cell_type": "code",
   "execution_count": 2,
   "metadata": {},
   "outputs": [],
   "source": [
    "#We will not use this function ,it's juste for explaining \n",
    "def objec_func(parmtrs):\n",
    "    return (np.dot(parmtrs[0:d],parmtrs[0:d].T))/2+C*sum(parmtrs[d+1:d+2*n+1])"
   ]
  },
  {
   "cell_type": "markdown",
   "metadata": {},
   "source": [
    "## Frank and wolf Algorithm"
   ]
  },
  {
   "cell_type": "markdown",
   "metadata": {},
   "source": [
    "<img src=\"fw1.png\" width=\"500px\" height=\"500px\" >"
   ]
  },
  {
   "cell_type": "code",
   "execution_count": 3,
   "metadata": {},
   "outputs": [],
   "source": [
    "#this function used to find a first initial solution is simplex problem\n",
    "def first_point(X):\n",
    "    n,d=X.shape\n",
    "    A=np.concatenate((-1*X,X), axis=0)\n",
    "    A=np.insert(A,len(A[1]),1, axis=1)\n",
    "    list1=[]\n",
    "    for i in range(0,2*n):\n",
    "                line=np.zeros(2*n)\n",
    "                line[i]=-1\n",
    "                list1.append(line)\n",
    "    A=np.concatenate((A,np.array(list1)), axis=1)\n",
    "    A=np.insert(A,len(A[1]),0, axis=1)\n",
    "    A[0][2*n+d+1]=1\n",
    "    c=np.zeros(2*n+d+1)\n",
    "    c=np.append(c,1)\n",
    "    B=np.concatenate((ep-y,ep+y), axis=0)\n",
    "    none_bound=[(None,None) for i in range(0,d+1)]\n",
    "    bound=[(0,None) for i in range(0,2*n+1)]\n",
    "    bounds1=np.concatenate((none_bound,bound), axis=0)                               \n",
    "    res = linprog(c, A_ub=A, b_ub=B, bounds=bounds1,method='interior-point')\n",
    "    x=np.array(res['x'])\n",
    "    return x[0:2*n+d+1]"
   ]
  },
  {
   "cell_type": "code",
   "execution_count": 37,
   "metadata": {},
   "outputs": [],
   "source": [
    "#this function implement frank and walf algorithm \n",
    "def frank_walf_svr(X,y,ep,C,n_iter):\n",
    "    parameters=first_point(X)\n",
    "    n,d=X.shape\n",
    "    for k in range(0,n_iter):\n",
    "        # get gradient of objective function \n",
    "        parameters1=parameters\n",
    "        parameters1[d]=0\n",
    "        list_one=np.ones(2*n)\n",
    "        grad=np.concatenate((parameters1[0:d+1],C*list_one) ,axis=0)\n",
    "        A=np.concatenate((-1*X,X), axis=0)\n",
    "        A=np.insert(A,len(A[1]),1, axis=1)\n",
    "        list1=[]\n",
    "        for i in range(0,2*n):\n",
    "            line=np.zeros(2*n)\n",
    "            line[i]=-1\n",
    "            list1.append(line)\n",
    "        A=np.concatenate((A,np.array(list1)), axis=1)\n",
    "        c = grad\n",
    "        B=np.concatenate((ep-y,ep+y), axis=0)\n",
    "        none_bound=[(None,None) for i in range(0,d+1)]\n",
    "        bound=[(0,None) for i in range(0,2*n)]\n",
    "        bounds1=np.concatenate((none_bound,bound), axis=0)                               \n",
    "        res = linprog(c, A_ub=A, b_ub=B, bounds=bounds1,method='simplex')\n",
    "        res=np.array(res['x'])\n",
    "        dparameters = res-parameters\n",
    "        lr=2/(2+k)\n",
    "        parameters = parameters + lr* dparameters \n",
    "        print(\"Iteration\",k)\n",
    "    return parameters[0:d],parameters[d]\n",
    "       "
   ]
  },
  {
   "cell_type": "markdown",
   "metadata": {},
   "source": [
    "# Data"
   ]
  },
  {
   "cell_type": "code",
   "execution_count": 46,
   "metadata": {},
   "outputs": [],
   "source": [
    "X, y= make_regression(n_samples=1000, n_features=1,noise=8)\n",
    "X_train, X_test, y_train, y_test = train_test_split(X, y, test_size=0.2, random_state=1)"
   ]
  },
  {
   "cell_type": "code",
   "execution_count": 47,
   "metadata": {},
   "outputs": [
    {
     "data": {
      "image/png": "[encoded data removed]",
      "text/plain": [
       "<Figure size 432x288 with 1 Axes>"
      ]
     },
     "metadata": {},
     "output_type": "display_data"
    }
   ],
   "source": [
    "plt.scatter(X_train, y_train,color='black')\n",
    "plt.xticks(())\n",
    "plt.yticks(())\n",
    "plt.show()"
   ]
  },
  {
   "cell_type": "markdown",
   "metadata": {},
   "source": [
    "## Training"
   ]
  },
  {
   "cell_type": "code",
   "execution_count": 48,
   "metadata": {},
   "outputs": [],
   "source": [
    "ep, C, n_iter = 0.0001, 1, 10"
   ]
  },
  {
   "cell_type": "code",
   "execution_count": 49,
   "metadata": {},
   "outputs": [
    {
     "name": "stderr",
     "output_type": "stream",
     "text": [
      "/home/said/anaconda3/lib/python3.7/site-packages/numpy/core/fromnumeric.py:87: VisibleDeprecationWarning: Creating an ndarray from ragged nested sequences (which is a list-or-tuple of lists-or-tuples-or ndarrays with different lengths or shapes) is deprecated. If you meant to do this, you must specify 'dtype=object' when creating the ndarray\n",
      "  return ufunc.reduce(obj, axis, dtype, out, **passkwargs)\n"
     ]
    },
    {
     "name": "stdout",
     "output_type": "stream",
     "text": [
      "Iteration 0\n",
      "Iteration 1\n",
      "Iteration 2\n",
      "Iteration 3\n",
      "Iteration 4\n",
      "Iteration 5\n",
      "Iteration 6\n",
      "Iteration 7\n",
      "Iteration 8\n",
      "Iteration 9\n"
     ]
    }
   ],
   "source": [
    "w,b=frank_walf_svr(X, y, ep, C, n_iter)"
   ]
  },
  {
   "cell_type": "markdown",
   "metadata": {},
   "source": [
    "## Model visualization"
   ]
  },
  {
   "cell_type": "code",
   "execution_count": 50,
   "metadata": {},
   "outputs": [
    {
     "data": {
      "image/png": "[encoded data removed]",
      "text/plain": [
       "<Figure size 432x288 with 1 Axes>"
      ]
     },
     "metadata": {
      "needs_background": "light"
     },
     "output_type": "display_data"
    }
   ],
   "source": [
    "y=np.dot(X_train,w.T)+b\n",
    "plt.scatter(X_train, y_train,color='black')\n",
    "plt.plot(X_train,y)\n",
    "plt.show()"
   ]
  },
  {
   "cell_type": "markdown",
   "metadata": {},
   "source": [
    "## Save model"
   ]
  },
  {
   "cell_type": "code",
   "execution_count": 51,
   "metadata": {},
   "outputs": [],
   "source": [
    "np.save('Optimal_wr',w)\n",
    "np.save('Optimal_br',b)"
   ]
  },
  {
   "cell_type": "markdown",
   "metadata": {},
   "source": [
    "## Load model"
   ]
  },
  {
   "cell_type": "code",
   "execution_count": 52,
   "metadata": {},
   "outputs": [],
   "source": [
    "w=np.load('Optimal_wr.npy')\n",
    "b=np.load('Optimal_br.npy')"
   ]
  },
  {
   "cell_type": "markdown",
   "metadata": {},
   "source": [
    "## Model evaluation "
   ]
  },
  {
   "cell_type": "code",
   "execution_count": 53,
   "metadata": {},
   "outputs": [
    {
     "name": "stdout",
     "output_type": "stream",
     "text": [
      "0.9301430189782431\n"
     ]
    }
   ],
   "source": [
    "from sklearn.metrics import r2_score\n",
    "y_pred=[]\n",
    "for i in range (X_test.shape[0]):\n",
    "    y_hat=np.dot(w,X_test[i])+b\n",
    "    y_pred.append(y_hat)\n",
    "print(r2_score(y_test, y_pred))"
   ]
  },
  {
   "cell_type": "code",
   "execution_count": null,
   "metadata": {},
   "outputs": [],
   "source": []
  }
 ],
 "metadata": {
  "kernelspec": {
   "display_name": "Python 3",
   "language": "python",
   "name": "python3"
  },
  "language_info": {
   "codemirror_mode": {
    "name": "ipython",
    "version": 3
   },
   "file_extension": ".py",
   "mimetype": "text/x-python",
   "name": "python",
   "nbconvert_exporter": "python",
   "pygments_lexer": "ipython3",
   "version": "3.7.4"
  }
 },
 "nbformat": 4,
 "nbformat_minor": 2
}
